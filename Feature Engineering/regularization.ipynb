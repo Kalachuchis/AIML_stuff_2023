{
 "cells": [
  {
   "attachments": {},
   "cell_type": "markdown",
   "metadata": {},
   "source": [
    "# Regularization"
   ]
  },
  {
   "cell_type": "code",
   "execution_count": 2,
   "metadata": {},
   "outputs": [],
   "source": [
    "import numpy as np\n",
    "from sklearn.linear_model import LinearRegression, Ridge, Lasso\n",
    "from sklearn.metrics import r2_score\n",
    "from sklearn.model_selection import train_test_split\n",
    "from sklearn.preprocessing import PolynomialFeatures\n",
    "from sklearn import datasets"
   ]
  },
  {
   "cell_type": "code",
   "execution_count": 8,
   "metadata": {},
   "outputs": [
    {
     "data": {
      "text/plain": [
       "(442, 10)"
      ]
     },
     "execution_count": 8,
     "metadata": {},
     "output_type": "execute_result"
    }
   ],
   "source": [
    "data = datasets.load_diabetes(as_frame=False, scaled=True)\n",
    "X = data.data\n",
    "y = data.target\n",
    "\n",
    "Xtrain, Xtest, ytrain, ytest = train_test_split(\n",
    "    X, y, test_size=0.30\n",
    ")\n",
    "X.shape\n"
   ]
  },
  {
   "attachments": {},
   "cell_type": "markdown",
   "metadata": {},
   "source": [
    "## Least Square Regression"
   ]
  },
  {
   "cell_type": "code",
   "execution_count": 9,
   "metadata": {},
   "outputs": [
    {
     "name": "stdout",
     "output_type": "stream",
     "text": [
      "Train R-squared: 0.541\n",
      "Test R-squared: 0.432\n"
     ]
    }
   ],
   "source": [
    "linear_regressor = LinearRegression()\n",
    "linear_model = linear_regressor.fit(Xtrain, ytrain)\n",
    "# Get training performance score\n",
    "train_linear_r2 = linear_model.score(Xtrain, ytrain)\n",
    "print(\"Train R-squared: %.3f\" % train_linear_r2)\n",
    "# Get testing performance score\n",
    "test_linear_r2 = linear_model.score(Xtest, ytest)\n",
    "print(\"Test R-squared: %.3f\" % test_linear_r2)"
   ]
  },
  {
   "attachments": {},
   "cell_type": "markdown",
   "metadata": {},
   "source": [
    "## Linear Regression with L2 Regularization / Ridge Regression"
   ]
  },
  {
   "cell_type": "code",
   "execution_count": 28,
   "metadata": {},
   "outputs": [
    {
     "name": "stdout",
     "output_type": "stream",
     "text": [
      "Train R-squared: 0.534\n",
      "Test R-squared: 0.443\n"
     ]
    }
   ],
   "source": [
    "# The alpha parameter is the lambda\n",
    "ridge_regressor = Ridge(alpha=0.1)\n",
    "ridge_model = ridge_regressor.fit(Xtrain, ytrain)\n",
    "# Get training performance score\n",
    "train_ridge_r2 = ridge_model.score(Xtrain, ytrain)\n",
    "print(\"Train R-squared: %.3f\" % train_ridge_r2)\n",
    "# Get testing performance score\n",
    "test_ridge_r2 = ridge_model.score(Xtest, ytest)\n",
    "print(\"Test R-squared: %.3f\" % test_ridge_r2)"
   ]
  },
  {
   "attachments": {},
   "cell_type": "markdown",
   "metadata": {},
   "source": [
    "## Linear Regression with L1 Regularization / Lasso Regression"
   ]
  },
  {
   "cell_type": "code",
   "execution_count": 29,
   "metadata": {},
   "outputs": [
    {
     "name": "stdout",
     "output_type": "stream",
     "text": [
      "Train R-squared: 0.387\n",
      "Test R-squared: 0.331\n"
     ]
    }
   ],
   "source": [
    "# The alpha parameter is the lambda\n",
    "lasso_regressor = Lasso(alpha=1)\n",
    "lasso_model = lasso_regressor.fit(Xtrain, ytrain)\n",
    "# Get training performance score\n",
    "train_lasso_r2 = lasso_model.score(Xtrain, ytrain)\n",
    "print(\"Train R-squared: %.3f\" % train_lasso_r2)\n",
    "# Get testing performance score\n",
    "test_lasso_r2 = lasso_model.score(Xtest, ytest)\n",
    "print(\"Test R-squared: %.3f\" % test_lasso_r2)"
   ]
  }
 ],
 "metadata": {
  "kernelspec": {
   "display_name": "bootcamp",
   "language": "python",
   "name": "python3"
  },
  "language_info": {
   "codemirror_mode": {
    "name": "ipython",
    "version": 3
   },
   "file_extension": ".py",
   "mimetype": "text/x-python",
   "name": "python",
   "nbconvert_exporter": "python",
   "pygments_lexer": "ipython3",
   "version": "3.10.9"
  },
  "orig_nbformat": 4
 },
 "nbformat": 4,
 "nbformat_minor": 2
}
