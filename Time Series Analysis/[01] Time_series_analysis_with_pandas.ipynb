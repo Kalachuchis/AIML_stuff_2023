{
 "cells": [
  {
   "cell_type": "code",
   "execution_count": 1,
   "metadata": {},
   "outputs": [],
   "source": [
    "import pandas as pd"
   ]
  },
  {
   "cell_type": "markdown",
   "metadata": {},
   "source": [
    "# Time series with pandas"
   ]
  },
  {
   "cell_type": "markdown",
   "metadata": {},
   "source": [
    "## Datetimes"
   ]
  },
  {
   "attachments": {},
   "cell_type": "markdown",
   "metadata": {},
   "source": [
    "The built-in library `datetime` comes with two useful submodules: `datetime` and `timedelta`. It can be used to get:\n",
    "\n",
    "- An arbitrary date, e.g. May 15, 2021\n",
    "- An arbitrary date and time, e.g. May 15, 2021 07:23:44\n",
    "- The current date and time\n",
    "- Yesterday's date and time (current date minus one day)"
   ]
  },
  {
   "cell_type": "code",
   "execution_count": 2,
   "metadata": {},
   "outputs": [
    {
     "name": "stdout",
     "output_type": "stream",
     "text": [
      "Arbitrary date:  2021-05-15 00:00:00\n",
      "Date and time:   2021-05-15 07:23:44\n",
      "Date right now:  2023-02-02 01:00:05.796685\n",
      "Date yesterday:  2023-02-01 01:00:05.797683\n"
     ]
    }
   ],
   "source": [
    "from datetime import datetime, timedelta\n",
    "\n",
    "\n",
    "# Arbitrary date\n",
    "print('Arbitrary date: ', end=' ')\n",
    "print(datetime(year=2021, month=5, day=15))\n",
    "\n",
    "# Arbitary date and time\n",
    "print('Date and time:  ', end=' ')\n",
    "print(datetime(year=2021, month=5, day=15, hour=7, minute=23, second=44))\n",
    "\n",
    "# Now\n",
    "print('Date right now: ', end=' ')\n",
    "print(datetime.now())\n",
    "\n",
    "# Yesterday\n",
    "print('Date yesterday: ', end=' ')\n",
    "print(datetime.now() - timedelta(days=1))"
   ]
  },
  {
   "attachments": {},
   "cell_type": "markdown",
   "metadata": {},
   "source": [
    "In addition, it can also be used to extract specific information from datetime values "
   ]
  },
  {
   "cell_type": "code",
   "execution_count": 3,
   "metadata": {},
   "outputs": [
    {
     "name": "stdout",
     "output_type": "stream",
     "text": [
      "2023 2 2 1 0 5\n"
     ]
    }
   ],
   "source": [
    "now = datetime.now()\n",
    "print(now.year, now.month, now.day, now.hour, now.minute, now.second)"
   ]
  },
  {
   "cell_type": "markdown",
   "metadata": {},
   "source": [
    "## Date Ranges"
   ]
  },
  {
   "attachments": {},
   "cell_type": "markdown",
   "metadata": {},
   "source": [
    "Different methods exist for handling date ranges in Python, such as using Pure Python (lists, etc.) or NumPy and Pandas. However, this lesson will focus only on Pandas"
   ]
  },
  {
   "attachments": {},
   "cell_type": "markdown",
   "metadata": {},
   "source": [
    "There are options to specify a date range in Pandas: the first and most common is to provide the start and end dates and let Pandas do the rest."
   ]
  },
  {
   "cell_type": "code",
   "execution_count": 4,
   "metadata": {},
   "outputs": [
    {
     "data": {
      "text/plain": [
       "DatetimeIndex(['2021-07-01', '2021-07-02', '2021-07-03', '2021-07-04',\n",
       "               '2021-07-05'],\n",
       "              dtype='datetime64[ns]', freq='D')"
      ]
     },
     "execution_count": 4,
     "metadata": {},
     "output_type": "execute_result"
    }
   ],
   "source": [
    "import pandas as pd\n",
    "\n",
    "#Similar to range(start,end)\n",
    "date_list = pd.date_range(start='2021-07-01', end='2021-07-05')\n",
    "date_list"
   ]
  },
  {
   "attachments": {},
   "cell_type": "markdown",
   "metadata": {},
   "source": [
    "Using starting date only. This requires two extra parameters:\n",
    "\n",
    "- periods: int – the number of periods in the date range, including the starting value.\n",
    "- freq: str – the interval level."
   ]
  },
  {
   "cell_type": "code",
   "execution_count": 5,
   "metadata": {},
   "outputs": [
    {
     "data": {
      "text/plain": [
       "DatetimeIndex(['2021-07-01', '2021-07-02', '2021-07-03', '2021-07-04',\n",
       "               '2021-07-05', '2021-07-06', '2021-07-07', '2021-07-08',\n",
       "               '2021-07-09', '2021-07-10'],\n",
       "              dtype='datetime64[ns]', freq='D')"
      ]
     },
     "execution_count": 5,
     "metadata": {},
     "output_type": "execute_result"
    }
   ],
   "source": [
    "date_list = pd.date_range(start='2021-07-01', periods=10, freq='D')\n",
    "date_list"
   ]
  },
  {
   "attachments": {},
   "cell_type": "markdown",
   "metadata": {},
   "source": [
    "The other great thing about Pandas is that functions like min() and max() can be used directly on date ranges. For example:"
   ]
  },
  {
   "cell_type": "code",
   "execution_count": 6,
   "metadata": {},
   "outputs": [
    {
     "name": "stdout",
     "output_type": "stream",
     "text": [
      "Minimum date: 2021-07-01 00:00:00\n",
      "Maximum date: 2021-07-10 00:00:00\n"
     ]
    }
   ],
   "source": [
    "\n",
    "print(f'Minimum date: {date_list.min()}')\n",
    "print(f'Maximum date: {date_list.max()}')"
   ]
  },
  {
   "cell_type": "markdown",
   "metadata": {},
   "source": [
    "## Pandas functions "
   ]
  },
  {
   "attachments": {},
   "cell_type": "markdown",
   "metadata": {},
   "source": [
    "Pandas can be used to manipulate time series data, such as converting daily intervals to monthly totals, etc. \n",
    "\n",
    "Use the light weight vehicle sales dataset from <a href=\"https://fred.stlouisfed.org/series/LTOTALNSA\">FRED</a>. Load the dataset using Pandas"
   ]
  },
  {
   "cell_type": "code",
   "execution_count": 7,
   "metadata": {},
   "outputs": [
    {
     "data": {
      "text/html": [
       "<div>\n",
       "<style scoped>\n",
       "    .dataframe tbody tr th:only-of-type {\n",
       "        vertical-align: middle;\n",
       "    }\n",
       "\n",
       "    .dataframe tbody tr th {\n",
       "        vertical-align: top;\n",
       "    }\n",
       "\n",
       "    .dataframe thead th {\n",
       "        text-align: right;\n",
       "    }\n",
       "</style>\n",
       "<table border=\"1\" class=\"dataframe\">\n",
       "  <thead>\n",
       "    <tr style=\"text-align: right;\">\n",
       "      <th></th>\n",
       "      <th>LTOTALNSA</th>\n",
       "    </tr>\n",
       "    <tr>\n",
       "      <th>DATE</th>\n",
       "      <th></th>\n",
       "    </tr>\n",
       "  </thead>\n",
       "  <tbody>\n",
       "    <tr>\n",
       "      <th>1976-01-01</th>\n",
       "      <td>864.6</td>\n",
       "    </tr>\n",
       "    <tr>\n",
       "      <th>1976-02-01</th>\n",
       "      <td>973.3</td>\n",
       "    </tr>\n",
       "    <tr>\n",
       "      <th>1976-03-01</th>\n",
       "      <td>1216.1</td>\n",
       "    </tr>\n",
       "    <tr>\n",
       "      <th>1976-04-01</th>\n",
       "      <td>1163.2</td>\n",
       "    </tr>\n",
       "    <tr>\n",
       "      <th>1976-05-01</th>\n",
       "      <td>1176.1</td>\n",
       "    </tr>\n",
       "  </tbody>\n",
       "</table>\n",
       "</div>"
      ],
      "text/plain": [
       "            LTOTALNSA\n",
       "DATE                 \n",
       "1976-01-01      864.6\n",
       "1976-02-01      973.3\n",
       "1976-03-01     1216.1\n",
       "1976-04-01     1163.2\n",
       "1976-05-01     1176.1"
      ]
     },
     "execution_count": 7,
     "metadata": {},
     "output_type": "execute_result"
    }
   ],
   "source": [
    "df = pd.read_csv('data/LTOTALNSA.csv', index_col='DATE', parse_dates=True)\n",
    "df.head()"
   ]
  },
  {
   "attachments": {},
   "cell_type": "markdown",
   "metadata": {},
   "source": [
    "### Resampling\n",
    "Resampling is used to alter the aggregation level of a time series. For instance, if one has data collected in hourly intervals but needs daily totals for analysis, resampling is the solution.\n",
    "\n",
    "The code snippet below resamples the monthly dataset to yearly totals:"
   ]
  },
  {
   "cell_type": "code",
   "execution_count": 8,
   "metadata": {},
   "outputs": [
    {
     "data": {
      "text/html": [
       "<div>\n",
       "<style scoped>\n",
       "    .dataframe tbody tr th:only-of-type {\n",
       "        vertical-align: middle;\n",
       "    }\n",
       "\n",
       "    .dataframe tbody tr th {\n",
       "        vertical-align: top;\n",
       "    }\n",
       "\n",
       "    .dataframe thead th {\n",
       "        text-align: right;\n",
       "    }\n",
       "</style>\n",
       "<table border=\"1\" class=\"dataframe\">\n",
       "  <thead>\n",
       "    <tr style=\"text-align: right;\">\n",
       "      <th></th>\n",
       "      <th>LTOTALNSA</th>\n",
       "    </tr>\n",
       "    <tr>\n",
       "      <th>DATE</th>\n",
       "      <th></th>\n",
       "    </tr>\n",
       "  </thead>\n",
       "  <tbody>\n",
       "    <tr>\n",
       "      <th>1976-12-31</th>\n",
       "      <td>12969.8</td>\n",
       "    </tr>\n",
       "    <tr>\n",
       "      <th>1977-12-31</th>\n",
       "      <td>14481.9</td>\n",
       "    </tr>\n",
       "    <tr>\n",
       "      <th>1978-12-31</th>\n",
       "      <td>14981.0</td>\n",
       "    </tr>\n",
       "    <tr>\n",
       "      <th>1979-12-31</th>\n",
       "      <td>13758.4</td>\n",
       "    </tr>\n",
       "    <tr>\n",
       "      <th>1980-12-31</th>\n",
       "      <td>11197.5</td>\n",
       "    </tr>\n",
       "  </tbody>\n",
       "</table>\n",
       "</div>"
      ],
      "text/plain": [
       "            LTOTALNSA\n",
       "DATE                 \n",
       "1976-12-31    12969.8\n",
       "1977-12-31    14481.9\n",
       "1978-12-31    14981.0\n",
       "1979-12-31    13758.4\n",
       "1980-12-31    11197.5"
      ]
     },
     "execution_count": 8,
     "metadata": {},
     "output_type": "execute_result"
    }
   ],
   "source": [
    "yearly_totals = df.resample(rule='Y').sum()\n",
    "yearly_totals.head()"
   ]
  },
  {
   "attachments": {},
   "cell_type": "markdown",
   "metadata": {},
   "source": [
    "All the other aggregation functions are available in the Pandas documentation.  \n",
    "\n",
    "For example, to get the quarterly mean, use the following code:"
   ]
  },
  {
   "cell_type": "code",
   "execution_count": 9,
   "metadata": {},
   "outputs": [
    {
     "data": {
      "text/html": [
       "<div>\n",
       "<style scoped>\n",
       "    .dataframe tbody tr th:only-of-type {\n",
       "        vertical-align: middle;\n",
       "    }\n",
       "\n",
       "    .dataframe tbody tr th {\n",
       "        vertical-align: top;\n",
       "    }\n",
       "\n",
       "    .dataframe thead th {\n",
       "        text-align: right;\n",
       "    }\n",
       "</style>\n",
       "<table border=\"1\" class=\"dataframe\">\n",
       "  <thead>\n",
       "    <tr style=\"text-align: right;\">\n",
       "      <th></th>\n",
       "      <th>LTOTALNSA</th>\n",
       "    </tr>\n",
       "    <tr>\n",
       "      <th>DATE</th>\n",
       "      <th></th>\n",
       "    </tr>\n",
       "  </thead>\n",
       "  <tbody>\n",
       "    <tr>\n",
       "      <th>1976-03-31</th>\n",
       "      <td>1018.000000</td>\n",
       "    </tr>\n",
       "    <tr>\n",
       "      <th>1976-06-30</th>\n",
       "      <td>1188.066667</td>\n",
       "    </tr>\n",
       "    <tr>\n",
       "      <th>1976-09-30</th>\n",
       "      <td>1049.966667</td>\n",
       "    </tr>\n",
       "    <tr>\n",
       "      <th>1976-12-31</th>\n",
       "      <td>1067.233333</td>\n",
       "    </tr>\n",
       "    <tr>\n",
       "      <th>1977-03-31</th>\n",
       "      <td>1141.466667</td>\n",
       "    </tr>\n",
       "  </tbody>\n",
       "</table>\n",
       "</div>"
      ],
      "text/plain": [
       "              LTOTALNSA\n",
       "DATE                   \n",
       "1976-03-31  1018.000000\n",
       "1976-06-30  1188.066667\n",
       "1976-09-30  1049.966667\n",
       "1976-12-31  1067.233333\n",
       "1977-03-31  1141.466667"
      ]
     },
     "execution_count": 9,
     "metadata": {},
     "output_type": "execute_result"
    }
   ],
   "source": [
    "quarterly_means = df.resample(rule='Q').mean()\n",
    "quarterly_means.head()"
   ]
  },
  {
   "attachments": {},
   "cell_type": "markdown",
   "metadata": {},
   "source": [
    "Important:  It's easy to convert monthly data to yearly data, but it's impossible to do the opposite."
   ]
  },
  {
   "attachments": {},
   "cell_type": "markdown",
   "metadata": {},
   "source": [
    "### Shifting\n",
    "The shift() function in Pandas is used to move the entire series up or down by the desired number of periods. \n",
    "\n",
    "The following code snippet shifts the series down by one and two periods, storing the shifted versions as additional columns:"
   ]
  },
  {
   "cell_type": "code",
   "execution_count": 10,
   "metadata": {},
   "outputs": [
    {
     "data": {
      "text/html": [
       "<div>\n",
       "<style scoped>\n",
       "    .dataframe tbody tr th:only-of-type {\n",
       "        vertical-align: middle;\n",
       "    }\n",
       "\n",
       "    .dataframe tbody tr th {\n",
       "        vertical-align: top;\n",
       "    }\n",
       "\n",
       "    .dataframe thead th {\n",
       "        text-align: right;\n",
       "    }\n",
       "</style>\n",
       "<table border=\"1\" class=\"dataframe\">\n",
       "  <thead>\n",
       "    <tr style=\"text-align: right;\">\n",
       "      <th></th>\n",
       "      <th>LTOTALNSA</th>\n",
       "      <th>Shift_1</th>\n",
       "      <th>Shift_2</th>\n",
       "    </tr>\n",
       "    <tr>\n",
       "      <th>DATE</th>\n",
       "      <th></th>\n",
       "      <th></th>\n",
       "      <th></th>\n",
       "    </tr>\n",
       "  </thead>\n",
       "  <tbody>\n",
       "    <tr>\n",
       "      <th>1976-01-01</th>\n",
       "      <td>864.6</td>\n",
       "      <td>NaN</td>\n",
       "      <td>NaN</td>\n",
       "    </tr>\n",
       "    <tr>\n",
       "      <th>1976-02-01</th>\n",
       "      <td>973.3</td>\n",
       "      <td>864.6</td>\n",
       "      <td>NaN</td>\n",
       "    </tr>\n",
       "    <tr>\n",
       "      <th>1976-03-01</th>\n",
       "      <td>1216.1</td>\n",
       "      <td>973.3</td>\n",
       "      <td>864.6</td>\n",
       "    </tr>\n",
       "    <tr>\n",
       "      <th>1976-04-01</th>\n",
       "      <td>1163.2</td>\n",
       "      <td>1216.1</td>\n",
       "      <td>973.3</td>\n",
       "    </tr>\n",
       "    <tr>\n",
       "      <th>1976-05-01</th>\n",
       "      <td>1176.1</td>\n",
       "      <td>1163.2</td>\n",
       "      <td>1216.1</td>\n",
       "    </tr>\n",
       "  </tbody>\n",
       "</table>\n",
       "</div>"
      ],
      "text/plain": [
       "            LTOTALNSA  Shift_1  Shift_2\n",
       "DATE                                   \n",
       "1976-01-01      864.6      NaN      NaN\n",
       "1976-02-01      973.3    864.6      NaN\n",
       "1976-03-01     1216.1    973.3    864.6\n",
       "1976-04-01     1163.2   1216.1    973.3\n",
       "1976-05-01     1176.1   1163.2   1216.1"
      ]
     },
     "execution_count": 10,
     "metadata": {},
     "output_type": "execute_result"
    }
   ],
   "source": [
    "df_shift = df.copy()\n",
    "df_shift['Shift_1'] = df_shift['LTOTALNSA'].shift(1)\n",
    "df_shift['Shift_2'] = df_shift['LTOTALNSA'].shift(2)\n",
    "df_shift.head()"
   ]
  },
  {
   "attachments": {},
   "cell_type": "markdown",
   "metadata": {},
   "source": [
    "Notice how the first one or two rows are missing, since no records before 1976-01-01 are available.\n",
    "\n",
    "The same can be done at the other end of the dataset. There is no unshift function, so you must shift the series by a negative value."
   ]
  },
  {
   "cell_type": "code",
   "execution_count": 11,
   "metadata": {},
   "outputs": [
    {
     "data": {
      "text/html": [
       "<div>\n",
       "<style scoped>\n",
       "    .dataframe tbody tr th:only-of-type {\n",
       "        vertical-align: middle;\n",
       "    }\n",
       "\n",
       "    .dataframe tbody tr th {\n",
       "        vertical-align: top;\n",
       "    }\n",
       "\n",
       "    .dataframe thead th {\n",
       "        text-align: right;\n",
       "    }\n",
       "</style>\n",
       "<table border=\"1\" class=\"dataframe\">\n",
       "  <thead>\n",
       "    <tr style=\"text-align: right;\">\n",
       "      <th></th>\n",
       "      <th>LTOTALNSA</th>\n",
       "      <th>Shift_Neg1</th>\n",
       "      <th>Shift_Neg2</th>\n",
       "    </tr>\n",
       "    <tr>\n",
       "      <th>DATE</th>\n",
       "      <th></th>\n",
       "      <th></th>\n",
       "      <th></th>\n",
       "    </tr>\n",
       "  </thead>\n",
       "  <tbody>\n",
       "    <tr>\n",
       "      <th>2022-08-01</th>\n",
       "      <td>1134.266</td>\n",
       "      <td>1124.206</td>\n",
       "      <td>1176.991</td>\n",
       "    </tr>\n",
       "    <tr>\n",
       "      <th>2022-09-01</th>\n",
       "      <td>1124.206</td>\n",
       "      <td>1176.991</td>\n",
       "      <td>1125.616</td>\n",
       "    </tr>\n",
       "    <tr>\n",
       "      <th>2022-10-01</th>\n",
       "      <td>1176.991</td>\n",
       "      <td>1125.616</td>\n",
       "      <td>1263.268</td>\n",
       "    </tr>\n",
       "    <tr>\n",
       "      <th>2022-11-01</th>\n",
       "      <td>1125.616</td>\n",
       "      <td>1263.268</td>\n",
       "      <td>NaN</td>\n",
       "    </tr>\n",
       "    <tr>\n",
       "      <th>2022-12-01</th>\n",
       "      <td>1263.268</td>\n",
       "      <td>NaN</td>\n",
       "      <td>NaN</td>\n",
       "    </tr>\n",
       "  </tbody>\n",
       "</table>\n",
       "</div>"
      ],
      "text/plain": [
       "            LTOTALNSA  Shift_Neg1  Shift_Neg2\n",
       "DATE                                         \n",
       "2022-08-01   1134.266    1124.206    1176.991\n",
       "2022-09-01   1124.206    1176.991    1125.616\n",
       "2022-10-01   1176.991    1125.616    1263.268\n",
       "2022-11-01   1125.616    1263.268         NaN\n",
       "2022-12-01   1263.268         NaN         NaN"
      ]
     },
     "execution_count": 11,
     "metadata": {},
     "output_type": "execute_result"
    }
   ],
   "source": [
    "df_shift = df.copy()\n",
    "df_shift['Shift_Neg1'] = df_shift['LTOTALNSA'].shift(-1)\n",
    "df_shift['Shift_Neg2'] = df_shift['LTOTALNSA'].shift(-2)\n",
    "df_shift.tail()"
   ]
  },
  {
   "attachments": {},
   "cell_type": "markdown",
   "metadata": {},
   "source": [
    "### Rolling\n",
    "Time series data can be volatile, so rolling averages are a good technique to smooth it out.\n",
    "\n",
    "To calculate quarterly & yearly averages from the original series:"
   ]
  },
  {
   "cell_type": "code",
   "execution_count": 12,
   "metadata": {},
   "outputs": [
    {
     "data": {
      "text/html": [
       "<div>\n",
       "<style scoped>\n",
       "    .dataframe tbody tr th:only-of-type {\n",
       "        vertical-align: middle;\n",
       "    }\n",
       "\n",
       "    .dataframe tbody tr th {\n",
       "        vertical-align: top;\n",
       "    }\n",
       "\n",
       "    .dataframe thead th {\n",
       "        text-align: right;\n",
       "    }\n",
       "</style>\n",
       "<table border=\"1\" class=\"dataframe\">\n",
       "  <thead>\n",
       "    <tr style=\"text-align: right;\">\n",
       "      <th></th>\n",
       "      <th>LTOTALNSA</th>\n",
       "      <th>QuarterRolling</th>\n",
       "      <th>YearRolling</th>\n",
       "    </tr>\n",
       "    <tr>\n",
       "      <th>DATE</th>\n",
       "      <th></th>\n",
       "      <th></th>\n",
       "      <th></th>\n",
       "    </tr>\n",
       "  </thead>\n",
       "  <tbody>\n",
       "    <tr>\n",
       "      <th>1976-01-01</th>\n",
       "      <td>864.6</td>\n",
       "      <td>NaN</td>\n",
       "      <td>NaN</td>\n",
       "    </tr>\n",
       "    <tr>\n",
       "      <th>1976-02-01</th>\n",
       "      <td>973.3</td>\n",
       "      <td>NaN</td>\n",
       "      <td>NaN</td>\n",
       "    </tr>\n",
       "    <tr>\n",
       "      <th>1976-03-01</th>\n",
       "      <td>1216.1</td>\n",
       "      <td>1018.000000</td>\n",
       "      <td>NaN</td>\n",
       "    </tr>\n",
       "    <tr>\n",
       "      <th>1976-04-01</th>\n",
       "      <td>1163.2</td>\n",
       "      <td>1117.533333</td>\n",
       "      <td>NaN</td>\n",
       "    </tr>\n",
       "    <tr>\n",
       "      <th>1976-05-01</th>\n",
       "      <td>1176.1</td>\n",
       "      <td>1185.133333</td>\n",
       "      <td>NaN</td>\n",
       "    </tr>\n",
       "    <tr>\n",
       "      <th>1976-06-01</th>\n",
       "      <td>1224.9</td>\n",
       "      <td>1188.066667</td>\n",
       "      <td>NaN</td>\n",
       "    </tr>\n",
       "    <tr>\n",
       "      <th>1976-07-01</th>\n",
       "      <td>1130.1</td>\n",
       "      <td>1177.033333</td>\n",
       "      <td>NaN</td>\n",
       "    </tr>\n",
       "    <tr>\n",
       "      <th>1976-08-01</th>\n",
       "      <td>994.9</td>\n",
       "      <td>1116.633333</td>\n",
       "      <td>NaN</td>\n",
       "    </tr>\n",
       "    <tr>\n",
       "      <th>1976-09-01</th>\n",
       "      <td>1024.9</td>\n",
       "      <td>1049.966667</td>\n",
       "      <td>NaN</td>\n",
       "    </tr>\n",
       "    <tr>\n",
       "      <th>1976-10-01</th>\n",
       "      <td>1103.7</td>\n",
       "      <td>1041.166667</td>\n",
       "      <td>NaN</td>\n",
       "    </tr>\n",
       "    <tr>\n",
       "      <th>1976-11-01</th>\n",
       "      <td>1062.0</td>\n",
       "      <td>1063.533333</td>\n",
       "      <td>NaN</td>\n",
       "    </tr>\n",
       "    <tr>\n",
       "      <th>1976-12-01</th>\n",
       "      <td>1036.0</td>\n",
       "      <td>1067.233333</td>\n",
       "      <td>1080.816667</td>\n",
       "    </tr>\n",
       "    <tr>\n",
       "      <th>1977-01-01</th>\n",
       "      <td>945.0</td>\n",
       "      <td>1014.333333</td>\n",
       "      <td>1087.516667</td>\n",
       "    </tr>\n",
       "    <tr>\n",
       "      <th>1977-02-01</th>\n",
       "      <td>1065.4</td>\n",
       "      <td>1015.466667</td>\n",
       "      <td>1095.191667</td>\n",
       "    </tr>\n",
       "    <tr>\n",
       "      <th>1977-03-01</th>\n",
       "      <td>1414.0</td>\n",
       "      <td>1141.466667</td>\n",
       "      <td>1111.683333</td>\n",
       "    </tr>\n",
       "  </tbody>\n",
       "</table>\n",
       "</div>"
      ],
      "text/plain": [
       "            LTOTALNSA  QuarterRolling  YearRolling\n",
       "DATE                                              \n",
       "1976-01-01      864.6             NaN          NaN\n",
       "1976-02-01      973.3             NaN          NaN\n",
       "1976-03-01     1216.1     1018.000000          NaN\n",
       "1976-04-01     1163.2     1117.533333          NaN\n",
       "1976-05-01     1176.1     1185.133333          NaN\n",
       "1976-06-01     1224.9     1188.066667          NaN\n",
       "1976-07-01     1130.1     1177.033333          NaN\n",
       "1976-08-01      994.9     1116.633333          NaN\n",
       "1976-09-01     1024.9     1049.966667          NaN\n",
       "1976-10-01     1103.7     1041.166667          NaN\n",
       "1976-11-01     1062.0     1063.533333          NaN\n",
       "1976-12-01     1036.0     1067.233333  1080.816667\n",
       "1977-01-01      945.0     1014.333333  1087.516667\n",
       "1977-02-01     1065.4     1015.466667  1095.191667\n",
       "1977-03-01     1414.0     1141.466667  1111.683333"
      ]
     },
     "execution_count": 12,
     "metadata": {},
     "output_type": "execute_result"
    }
   ],
   "source": [
    "df_rolling = df.copy()\n",
    "df_rolling['QuarterRolling'] = df_rolling['LTOTALNSA'].rolling(window=3).mean()\n",
    "df_rolling['YearRolling'] = df_rolling['LTOTALNSA'].rolling(window=12).mean()\n",
    "df_rolling.head(15)"
   ]
  },
  {
   "attachments": {},
   "cell_type": "markdown",
   "metadata": {},
   "source": [
    "The values become much more similar after calculating moving averages."
   ]
  },
  {
   "attachments": {},
   "cell_type": "markdown",
   "metadata": {},
   "source": [
    "### Differencing\n",
    "An essential technique when working with financial data, such as stock prices, to calculate returns. Differencing is generally used to make the series stationary.\n",
    "Here's how to calculate first and second order differences, with explanations in the comments:"
   ]
  },
  {
   "cell_type": "code",
   "execution_count": 13,
   "metadata": {},
   "outputs": [
    {
     "data": {
      "text/html": [
       "<div>\n",
       "<style scoped>\n",
       "    .dataframe tbody tr th:only-of-type {\n",
       "        vertical-align: middle;\n",
       "    }\n",
       "\n",
       "    .dataframe tbody tr th {\n",
       "        vertical-align: top;\n",
       "    }\n",
       "\n",
       "    .dataframe thead th {\n",
       "        text-align: right;\n",
       "    }\n",
       "</style>\n",
       "<table border=\"1\" class=\"dataframe\">\n",
       "  <thead>\n",
       "    <tr style=\"text-align: right;\">\n",
       "      <th></th>\n",
       "      <th>LTOTALNSA</th>\n",
       "      <th>Diff_1</th>\n",
       "      <th>Diff_2</th>\n",
       "    </tr>\n",
       "    <tr>\n",
       "      <th>DATE</th>\n",
       "      <th></th>\n",
       "      <th></th>\n",
       "      <th></th>\n",
       "    </tr>\n",
       "  </thead>\n",
       "  <tbody>\n",
       "    <tr>\n",
       "      <th>1976-01-01</th>\n",
       "      <td>864.6</td>\n",
       "      <td>NaN</td>\n",
       "      <td>NaN</td>\n",
       "    </tr>\n",
       "    <tr>\n",
       "      <th>1976-02-01</th>\n",
       "      <td>973.3</td>\n",
       "      <td>108.7</td>\n",
       "      <td>NaN</td>\n",
       "    </tr>\n",
       "    <tr>\n",
       "      <th>1976-03-01</th>\n",
       "      <td>1216.1</td>\n",
       "      <td>242.8</td>\n",
       "      <td>351.5</td>\n",
       "    </tr>\n",
       "    <tr>\n",
       "      <th>1976-04-01</th>\n",
       "      <td>1163.2</td>\n",
       "      <td>-52.9</td>\n",
       "      <td>189.9</td>\n",
       "    </tr>\n",
       "    <tr>\n",
       "      <th>1976-05-01</th>\n",
       "      <td>1176.1</td>\n",
       "      <td>12.9</td>\n",
       "      <td>-40.0</td>\n",
       "    </tr>\n",
       "  </tbody>\n",
       "</table>\n",
       "</div>"
      ],
      "text/plain": [
       "            LTOTALNSA  Diff_1  Diff_2\n",
       "DATE                                 \n",
       "1976-01-01      864.6     NaN     NaN\n",
       "1976-02-01      973.3   108.7     NaN\n",
       "1976-03-01     1216.1   242.8   351.5\n",
       "1976-04-01     1163.2   -52.9   189.9\n",
       "1976-05-01     1176.1    12.9   -40.0"
      ]
     },
     "execution_count": 13,
     "metadata": {},
     "output_type": "execute_result"
    }
   ],
   "source": [
    "\n",
    "df_diff = df.copy()\n",
    "df_diff['Diff_1'] = df_diff['LTOTALNSA'].diff(periods=1)\n",
    "df_diff['Diff_2'] = df_diff['LTOTALNSA'].diff(periods=2)\n",
    "df_diff.head()"
   ]
  },
  {
   "attachments": {},
   "cell_type": "markdown",
   "metadata": {},
   "source": [
    "## Visualization\n"
   ]
  },
  {
   "cell_type": "code",
   "execution_count": null,
   "metadata": {},
   "outputs": [],
   "source": []
  },
  {
   "cell_type": "code",
   "execution_count": 14,
   "metadata": {},
   "outputs": [
    {
     "data": {
      "image/png": "[encoded data removed]",
      "text/plain": [
       "<Figure size 1296x360 with 1 Axes>"
      ]
     },
     "metadata": {
      "needs_background": "light"
     },
     "output_type": "display_data"
    }
   ],
   "source": [
    "\n",
    "df.plot(figsize=(18, 5), title='Light weight vehicle sales');"
   ]
  }
 ],
 "metadata": {
  "kernelspec": {
   "display_name": "Python 3",
   "language": "python",
   "name": "python3"
  },
  "language_info": {
   "codemirror_mode": {
    "name": "ipython",
    "version": 3
   },
   "file_extension": ".py",
   "mimetype": "text/x-python",
   "name": "python",
   "nbconvert_exporter": "python",
   "pygments_lexer": "ipython3",
   "version": "3.11.1"
  },
  "orig_nbformat": 4,
  "vscode": {
   "interpreter": {
    "hash": "0e27ffb5edce314b3e63f0c216dd2d0ad5da41cec1e14a9a6037c373b33c9ebf"
   }
  }
 },
 "nbformat": 4,
 "nbformat_minor": 2
}
