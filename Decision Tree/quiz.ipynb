{
 "cells": [
  {
   "attachments": {},
   "cell_type": "markdown",
   "metadata": {},
   "source": [
    "# Question 1\n",
    "\n",
    "\n",
    "<img src='./Capture.PNG'>"
   ]
  },
  {
   "attachments": {},
   "cell_type": "markdown",
   "metadata": {},
   "source": [
    "\n",
    "- number of reds = 3\n",
    "- number of non red = 3\n",
    "\n"
   ]
  },
  {
   "cell_type": "code",
   "execution_count": 55,
   "metadata": {},
   "outputs": [
    {
     "data": {
      "text/html": [
       "<div>\n",
       "<style scoped>\n",
       "    .dataframe tbody tr th:only-of-type {\n",
       "        vertical-align: middle;\n",
       "    }\n",
       "\n",
       "    .dataframe tbody tr th {\n",
       "        vertical-align: top;\n",
       "    }\n",
       "\n",
       "    .dataframe thead th {\n",
       "        text-align: right;\n",
       "    }\n",
       "</style>\n",
       "<table border=\"1\" class=\"dataframe\">\n",
       "  <thead>\n",
       "    <tr style=\"text-align: right;\">\n",
       "      <th></th>\n",
       "      <th>0</th>\n",
       "      <th>1</th>\n",
       "    </tr>\n",
       "  </thead>\n",
       "  <tbody>\n",
       "    <tr>\n",
       "      <th>0</th>\n",
       "      <td>apple</td>\n",
       "      <td>red</td>\n",
       "    </tr>\n",
       "    <tr>\n",
       "      <th>1</th>\n",
       "      <td>berry</td>\n",
       "      <td>red</td>\n",
       "    </tr>\n",
       "    <tr>\n",
       "      <th>2</th>\n",
       "      <td>lemon</td>\n",
       "      <td>yellow</td>\n",
       "    </tr>\n",
       "    <tr>\n",
       "      <th>3</th>\n",
       "      <td>banana</td>\n",
       "      <td>yellow</td>\n",
       "    </tr>\n",
       "    <tr>\n",
       "      <th>4</th>\n",
       "      <td>apple</td>\n",
       "      <td>red</td>\n",
       "    </tr>\n",
       "  </tbody>\n",
       "</table>\n",
       "</div>"
      ],
      "text/plain": [
       "        0       1\n",
       "0   apple     red\n",
       "1   berry     red\n",
       "2   lemon  yellow\n",
       "3  banana  yellow\n",
       "4   apple     red"
      ]
     },
     "execution_count": 55,
     "metadata": {},
     "output_type": "execute_result"
    }
   ],
   "source": [
    "\n",
    "data = [['apple','red'],['berry','red'],['lemon','yellow'],['banana','yellow'],['apple','red'],['lemon','yellow']]\n",
    "df1 = pd.DataFrame(data)\n",
    "df1.head()"
   ]
  },
  {
   "cell_type": "code",
   "execution_count": 93,
   "metadata": {},
   "outputs": [
    {
     "name": "stdout",
     "output_type": "stream",
     "text": [
      "entropy_main:  1.9182958340544893\n",
      "entropy red:  0.9182958340544896\n",
      "entropy not_red:  0.9182958340544896\n",
      "entropy_split:  0.9182958340544896\n",
      "information_gain:  0.9999999999999998\n"
     ]
    }
   ],
   "source": [
    "import pandas as pd\n",
    "import numpy as np\n",
    "\n",
    "\n",
    "def entropy(df1):\n",
    "    dataset = len(df1)\n",
    "    classes = df1[0].value_counts()\n",
    "    probabilities = []\n",
    "\n",
    "    for i in classes:\n",
    "        probabilities.append(i/dataset)\n",
    "\n",
    "    entropy_s_parts = []\n",
    "    for prob in probabilities:\n",
    "        entropy_s_parts.append(-prob * np.log2(prob))\n",
    "\n",
    "\n",
    "    entropy_s = sum(entropy_s_parts)\n",
    "    return entropy_s\n",
    "\n",
    "entropy_main = entropy(df1)\n",
    "\n",
    "# split\n",
    "red = df1.loc[df1[1] == 'red']\n",
    "not_red = df1.loc[df1[1] != 'red']\n",
    "data_len_split = len(red) + len(not_red)\n",
    "\n",
    "entropy_red = entropy(red)\n",
    "entropy_not_red = entropy(not_red)\n",
    "entropy_split = (len(not_red)/data_len_split) * entropy_not_red + (len(red)/data_len_split)*entropy_red\n",
    "\n",
    "information_gain = entropy_main - entropy_split\n",
    "\n",
    "print('entropy_main: ', entropy_main)\n",
    "print('entropy red: ', entropy_red)\n",
    "print('entropy not_red: ', entropy_not_red)\n",
    "print('entropy_split: ', entropy_split)\n",
    "print('information_gain: ',information_gain)"
   ]
  },
  {
   "attachments": {},
   "cell_type": "markdown",
   "metadata": {},
   "source": [
    "# Exer 2"
   ]
  },
  {
   "cell_type": "code",
   "execution_count": 58,
   "metadata": {},
   "outputs": [
    {
     "data": {
      "text/html": [
       "<div>\n",
       "<style scoped>\n",
       "    .dataframe tbody tr th:only-of-type {\n",
       "        vertical-align: middle;\n",
       "    }\n",
       "\n",
       "    .dataframe tbody tr th {\n",
       "        vertical-align: top;\n",
       "    }\n",
       "\n",
       "    .dataframe thead th {\n",
       "        text-align: right;\n",
       "    }\n",
       "</style>\n",
       "<table border=\"1\" class=\"dataframe\">\n",
       "  <thead>\n",
       "    <tr style=\"text-align: right;\">\n",
       "      <th></th>\n",
       "      <th>Color</th>\n",
       "      <th>Shape</th>\n",
       "      <th>Weight</th>\n",
       "      <th>Class</th>\n",
       "    </tr>\n",
       "    <tr>\n",
       "      <th>ID</th>\n",
       "      <th></th>\n",
       "      <th></th>\n",
       "      <th></th>\n",
       "      <th></th>\n",
       "    </tr>\n",
       "  </thead>\n",
       "  <tbody>\n",
       "    <tr>\n",
       "      <th>1</th>\n",
       "      <td>Red</td>\n",
       "      <td>Circle</td>\n",
       "      <td>5</td>\n",
       "      <td>A</td>\n",
       "    </tr>\n",
       "    <tr>\n",
       "      <th>2</th>\n",
       "      <td>Blue</td>\n",
       "      <td>Square</td>\n",
       "      <td>10</td>\n",
       "      <td>C</td>\n",
       "    </tr>\n",
       "    <tr>\n",
       "      <th>3</th>\n",
       "      <td>Red</td>\n",
       "      <td>Triangle</td>\n",
       "      <td>7</td>\n",
       "      <td>B</td>\n",
       "    </tr>\n",
       "    <tr>\n",
       "      <th>4</th>\n",
       "      <td>Blue</td>\n",
       "      <td>Square</td>\n",
       "      <td>5</td>\n",
       "      <td>C</td>\n",
       "    </tr>\n",
       "    <tr>\n",
       "      <th>5</th>\n",
       "      <td>Red</td>\n",
       "      <td>Circle</td>\n",
       "      <td>3</td>\n",
       "      <td>A</td>\n",
       "    </tr>\n",
       "  </tbody>\n",
       "</table>\n",
       "</div>"
      ],
      "text/plain": [
       "   Color     Shape  Weight Class\n",
       "ID                              \n",
       "1    Red    Circle       5     A\n",
       "2   Blue    Square      10     C\n",
       "3    Red  Triangle       7     B\n",
       "4   Blue    Square       5     C\n",
       "5    Red    Circle       3     A"
      ]
     },
     "execution_count": 58,
     "metadata": {},
     "output_type": "execute_result"
    }
   ],
   "source": [
    "df = pd.read_csv('./no2.csv', index_col='ID')\n",
    "\n",
    "df.head()"
   ]
  },
  {
   "attachments": {},
   "cell_type": "markdown",
   "metadata": {},
   "source": [
    "split by color"
   ]
  },
  {
   "cell_type": "code",
   "execution_count": 59,
   "metadata": {},
   "outputs": [],
   "source": [
    "# IS COLOR RED?\n",
    "df_red = df.loc[df['Color'] == 'Red']\n",
    "df_non_red = df.loc[df['Color'] != 'Red']"
   ]
  },
  {
   "cell_type": "code",
   "execution_count": 121,
   "metadata": {},
   "outputs": [],
   "source": [
    "def entropy(df1, main_class):\n",
    "    print('Datafram:')\n",
    "    dataset = len(df1)\n",
    "    print(df1)\n",
    "    classes = df1[main_class].value_counts()\n",
    "    print('Classes')\n",
    "    print(classes)\n",
    "    probabilities = []\n",
    "\n",
    "    for i in classes:\n",
    "        probabilities.append(i/dataset)\n",
    "\n",
    "    entropy_s_parts = []\n",
    "    for prob in probabilities:\n",
    "        entropy_s_parts.append(-prob * np.log2(prob))\n",
    "\n",
    "\n",
    "    entropy_s = sum(entropy_s_parts)\n",
    "    return entropy_s\n",
    "\n",
    "def information_gain(df1, red, not_red, main_class):\n",
    "    entropy_main = entropy(df1, main_class)\n",
    "\n",
    "    # # split\n",
    "    # red = df1.loc[df1[attribute] == condition]\n",
    "    # not_red = df1.loc[df1[attribute] != condition]\n",
    "\n",
    "    entropy_red = entropy(red, main_class)\n",
    "    entropy_not_red = entropy(not_red, main_class)\n",
    "    entropy_split = entropy_not_red + entropy_red\n",
    "\n",
    "    data_len_split = len(red) + len(not_red)\n",
    "\n",
    "    entropy_split = (len(not_red)/data_len_split) * entropy_not_red + (len(red)/data_len_split)*entropy_red\n",
    "\n",
    "\n",
    "    return {\n",
    "    'EntropyS':entropy_main,\n",
    "    'EntropySplit':entropy_split,\n",
    "    'Information Gain': entropy_main - entropy_split\n",
    "    } "
   ]
  },
  {
   "cell_type": "code",
   "execution_count": 122,
   "metadata": {},
   "outputs": [
    {
     "name": "stdout",
     "output_type": "stream",
     "text": [
      "Datafram:\n",
      "   Color     Shape  Weight Class\n",
      "ID                              \n",
      "1    Red    Circle       5     A\n",
      "2   Blue    Square      10     C\n",
      "3    Red  Triangle       7     B\n",
      "4   Blue    Square       5     C\n",
      "5    Red    Circle       3     A\n",
      "6    Red  Triangle      10     B\n",
      "7   Blue    Square       2     B\n",
      "Classes\n",
      "B    3\n",
      "A    2\n",
      "C    2\n",
      "Name: Class, dtype: int64\n",
      "Datafram:\n",
      "   Color     Shape  Weight Class\n",
      "ID                              \n",
      "1    Red    Circle       5     A\n",
      "3    Red  Triangle       7     B\n",
      "5    Red    Circle       3     A\n",
      "6    Red  Triangle      10     B\n",
      "Classes\n",
      "A    2\n",
      "B    2\n",
      "Name: Class, dtype: int64\n",
      "Datafram:\n",
      "   Color   Shape  Weight Class\n",
      "ID                            \n",
      "2   Blue  Square      10     C\n",
      "4   Blue  Square       5     C\n",
      "7   Blue  Square       2     B\n",
      "Classes\n",
      "C    2\n",
      "B    1\n",
      "Name: Class, dtype: int64\n"
     ]
    },
    {
     "data": {
      "text/plain": [
       "{'EntropyS': 1.5566567074628228,\n",
       " 'EntropySplit': 0.9649839288804954,\n",
       " 'Information Gain': 0.5916727785823274}"
      ]
     },
     "execution_count": 122,
     "metadata": {},
     "output_type": "execute_result"
    }
   ],
   "source": [
    "information_gain(df, df_red, df_non_red, 'Class')"
   ]
  },
  {
   "attachments": {},
   "cell_type": "markdown",
   "metadata": {},
   "source": [
    "## Splitting red"
   ]
  },
  {
   "cell_type": "code",
   "execution_count": 123,
   "metadata": {},
   "outputs": [
    {
     "name": "stdout",
     "output_type": "stream",
     "text": [
      "Datafram:\n",
      "   Color     Shape  Weight Class\n",
      "ID                              \n",
      "1    Red    Circle       5     A\n",
      "3    Red  Triangle       7     B\n",
      "5    Red    Circle       3     A\n",
      "6    Red  Triangle      10     B\n",
      "Classes\n",
      "A    2\n",
      "B    2\n",
      "Name: Class, dtype: int64\n",
      "Datafram:\n",
      "   Color     Shape  Weight Class\n",
      "ID                              \n",
      "3    Red  Triangle       7     B\n",
      "6    Red  Triangle      10     B\n",
      "Classes\n",
      "B    2\n",
      "Name: Class, dtype: int64\n",
      "Datafram:\n",
      "   Color   Shape  Weight Class\n",
      "ID                            \n",
      "1    Red  Circle       5     A\n",
      "5    Red  Circle       3     A\n",
      "Classes\n",
      "A    2\n",
      "Name: Class, dtype: int64\n"
     ]
    },
    {
     "data": {
      "text/plain": [
       "{'EntropyS': 1.0, 'EntropySplit': 0.0, 'Information Gain': 1.0}"
      ]
     },
     "execution_count": 123,
     "metadata": {},
     "output_type": "execute_result"
    }
   ],
   "source": [
    "big_weight = df_red.loc[df_red['Weight'] >5]\n",
    "small = df_red.loc[df_red['Weight'] <= 5]\n",
    "\n",
    "information_gain(df_red, big_weight, small, 'Class')"
   ]
  },
  {
   "attachments": {},
   "cell_type": "markdown",
   "metadata": {},
   "source": [
    "## Splitting non red"
   ]
  },
  {
   "cell_type": "code",
   "execution_count": 127,
   "metadata": {},
   "outputs": [
    {
     "name": "stdout",
     "output_type": "stream",
     "text": [
      "Datafram:\n",
      "   Color   Shape  Weight Class\n",
      "ID                            \n",
      "2   Blue  Square      10     C\n",
      "4   Blue  Square       5     C\n",
      "7   Blue  Square       2     B\n",
      "Classes\n",
      "C    2\n",
      "B    1\n",
      "Name: Class, dtype: int64\n",
      "Datafram:\n",
      "   Color   Shape  Weight Class\n",
      "ID                            \n",
      "2   Blue  Square      10     C\n",
      "4   Blue  Square       5     C\n",
      "Classes\n",
      "C    2\n",
      "Name: Class, dtype: int64\n",
      "Datafram:\n",
      "   Color   Shape  Weight Class\n",
      "ID                            \n",
      "7   Blue  Square       2     B\n",
      "Classes\n",
      "B    1\n",
      "Name: Class, dtype: int64\n"
     ]
    },
    {
     "data": {
      "text/plain": [
       "{'EntropyS': 0.9182958340544896,\n",
       " 'EntropySplit': 0.0,\n",
       " 'Information Gain': 0.9182958340544896}"
      ]
     },
     "execution_count": 127,
     "metadata": {},
     "output_type": "execute_result"
    }
   ],
   "source": [
    "\n",
    "big_weight = df_non_red.loc[df_non_red['Weight'] >2]\n",
    "small = df_non_red.loc[df_non_red['Weight'] <= 2]\n",
    "\n",
    "information_gain(df_non_red, big_weight, small, 'Class')"
   ]
  }
 ],
 "metadata": {
  "kernelspec": {
   "display_name": "bootcamp",
   "language": "python",
   "name": "python3"
  },
  "language_info": {
   "codemirror_mode": {
    "name": "ipython",
    "version": 3
   },
   "file_extension": ".py",
   "mimetype": "text/x-python",
   "name": "python",
   "nbconvert_exporter": "python",
   "pygments_lexer": "ipython3",
   "version": "3.10.10"
  },
  "orig_nbformat": 4
 },
 "nbformat": 4,
 "nbformat_minor": 2
}
