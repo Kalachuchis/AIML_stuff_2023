{
 "cells": [
  {
   "cell_type": "code",
   "execution_count": 14,
   "metadata": {},
   "outputs": [],
   "source": [
    "import nltk\n",
    "import textdistance"
   ]
  },
  {
   "cell_type": "code",
   "execution_count": 87,
   "metadata": {},
   "outputs": [
    {
     "data": {
      "text/plain": [
       "0.4"
      ]
     },
     "execution_count": 87,
     "metadata": {},
     "output_type": "execute_result"
    }
   ],
   "source": [
    "string1 = 'exemplar'\n",
    "string2 = 'exemplification'\n",
    "\n",
    "\n",
    "textdistance.hamming.normalized_similarity(string1, string2)\n",
    "# textdistance.levenshtein.normalized_similarity(string1,string2)\n",
    "# textdistance.jaro.normalized_similarity(string1,string2)"
   ]
  },
  {
   "cell_type": "code",
   "execution_count": 86,
   "metadata": {},
   "outputs": [
    {
     "name": "stdout",
     "output_type": "stream",
     "text": [
      "15\n"
     ]
    },
    {
     "data": {
      "text/plain": [
       "0.4"
      ]
     },
     "execution_count": 86,
     "metadata": {},
     "output_type": "execute_result"
    }
   ],
   "source": [
    "print(len(string2))\n",
    "(1/3)*((6/6)+(6/10) + (6-3)/6)\n",
    "(15-9)/15"
   ]
  },
  {
   "cell_type": "code",
   "execution_count": 121,
   "metadata": {},
   "outputs": [
    {
     "name": "stdout",
     "output_type": "stream",
     "text": [
      "6\n",
      "14\n",
      "14\n"
     ]
    },
    {
     "data": {
      "text/plain": [
       "0.0"
      ]
     },
     "execution_count": 121,
     "metadata": {},
     "output_type": "execute_result"
    }
   ],
   "source": [
    "string1 = 'the morse code'\n",
    "string2='here come dots'\n",
    "\n",
    "set1 = set(string1.split(\" \"))\n",
    "set2 = set(string2.split(\" \"))\n",
    "\n",
    "print(len(set1.union(set2)))\n",
    "print(len(string1))\n",
    "print(len(string2))\n",
    "\n",
    "textdistance.jaccard.normalized_similarity(set1, set2)"
   ]
  },
  {
   "cell_type": "code",
   "execution_count": 152,
   "metadata": {},
   "outputs": [
    {
     "name": "stdout",
     "output_type": "stream",
     "text": [
      "{('t', 'h'): 1, ('h', 'e'): 2, ('e', ' '): 4, (' ', 'm'): 1, ('m', 'o'): 1, ('o', 'r'): 1, ('r', 's'): 1, ('s', 'e'): 1, (' ', 'c'): 2, ('c', 'o'): 2, ('o', 'd'): 1, ('d', 'e'): 1, ('e', 'r'): 1, ('r', 'e'): 1, ('o', 'm'): 1, ('m', 'e'): 1, (' ', 'd'): 1, ('d', 'o'): 1, ('o', 't'): 1, ('t', 's'): 1}\n",
      "[('t', 'h'), ('h', 'e'), ('e', ' '), (' ', 'm'), ('m', 'o'), ('o', 'r'), ('r', 's'), ('s', 'e'), ('e', ' '), (' ', 'c'), ('c', 'o'), ('o', 'd'), ('d', 'e')]\n",
      "[('h', 'e'), ('e', 'r'), ('r', 'e'), ('e', ' '), (' ', 'c'), ('c', 'o'), ('o', 'm'), ('m', 'e'), ('e', ' '), (' ', 'd'), ('d', 'o'), ('o', 't'), ('t', 's')]\n",
      "13\n",
      "13\n",
      "{('e', ' '), ('h', 'e'), (' ', 'c'), ('c', 'o')}\n",
      "0.38461538461538464\n"
     ]
    }
   ],
   "source": [
    "# token_sd1 = [string1[x: x+2] for x in range(len(string1) - 1)]\n",
    "# token_sd2 = [string2[x: x+2] for x in range(len(string2) - 1)]\n",
    "token_sd1 = list(nltk.ngrams(string1, n=2))\n",
    "token_sd2 = list(nltk.ngrams(string2, n=2))\n",
    "\n",
    "combined = token_sd1 + token_sd2\n",
    "print(dict(nltk.FreqDist(combined)))\n",
    "print(token_sd1)\n",
    "print(token_sd2)\n",
    "print(len(token_sd1))\n",
    "print(len(token_sd2))\n",
    "print(set(token_sd1).intersection(set(token_sd2)))\n",
    "\n",
    "print(textdistance.sorensen_dice(token_sd1, token_sd2))"
   ]
  },
  {
   "cell_type": "code",
   "execution_count": 150,
   "metadata": {},
   "outputs": [
    {
     "data": {
      "text/plain": [
       "0.38461538461538464"
      ]
     },
     "execution_count": 150,
     "metadata": {},
     "output_type": "execute_result"
    }
   ],
   "source": [
    "(2*5)/(13+13)"
   ]
  },
  {
   "cell_type": "code",
   "execution_count": 140,
   "metadata": {},
   "outputs": [
    {
     "data": {
      "text/plain": [
       "0.5714285714285714"
      ]
     },
     "execution_count": 140,
     "metadata": {},
     "output_type": "execute_result"
    }
   ],
   "source": [
    "textdistance.ratcliff_obershelp(string1, string2)"
   ]
  },
  {
   "cell_type": "code",
   "execution_count": 146,
   "metadata": {},
   "outputs": [
    {
     "data": {
      "text/plain": [
       "0.5714285714285714"
      ]
     },
     "execution_count": 146,
     "metadata": {},
     "output_type": "execute_result"
    }
   ],
   "source": [
    "(2*(2+3+3))/(14+14)"
   ]
  }
 ],
 "metadata": {
  "kernelspec": {
   "display_name": "myenv",
   "language": "python",
   "name": "python3"
  },
  "language_info": {
   "codemirror_mode": {
    "name": "ipython",
    "version": 3
   },
   "file_extension": ".py",
   "mimetype": "text/x-python",
   "name": "python",
   "nbconvert_exporter": "python",
   "pygments_lexer": "ipython3",
   "version": "3.10.0"
  },
  "orig_nbformat": 4
 },
 "nbformat": 4,
 "nbformat_minor": 2
}
