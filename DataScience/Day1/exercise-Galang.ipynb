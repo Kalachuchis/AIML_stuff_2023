{
 "cells": [
  {
   "cell_type": "code",
   "execution_count": null,
   "metadata": {},
   "outputs": [],
   "source": [
    "import pandas as pd"
   ]
  },
  {
   "attachments": {},
   "cell_type": "markdown",
   "metadata": {},
   "source": [
    "### Mean function"
   ]
  },
  {
   "cell_type": "code",
   "execution_count": null,
   "metadata": {},
   "outputs": [],
   "source": [
    "def mean(list):\n",
    "    return sum(list)/len(list)"
   ]
  },
  {
   "attachments": {},
   "cell_type": "markdown",
   "metadata": {},
   "source": [
    "### Median function"
   ]
  },
  {
   "cell_type": "code",
   "execution_count": null,
   "metadata": {},
   "outputs": [],
   "source": [
    "def median(list):\n",
    "    return list[len(list)//2]"
   ]
  },
  {
   "attachments": {},
   "cell_type": "markdown",
   "metadata": {},
   "source": [
    "### Mode function"
   ]
  },
  {
   "cell_type": "code",
   "execution_count": null,
   "metadata": {},
   "outputs": [],
   "source": [
    "def mode(list):\n",
    "    return max(list, key=list.count)"
   ]
  },
  {
   "attachments": {},
   "cell_type": "markdown",
   "metadata": {},
   "source": [
    "### Linear Regression"
   ]
  },
  {
   "cell_type": "code",
   "execution_count": null,
   "metadata": {},
   "outputs": [],
   "source": [
    "def slope(x,y):\n",
    "    n = len(x)\n",
    "    xy_list = [(x[i]*y[i] for i in range(n))]\n",
    "    x_squared = [i**2 for i in x]\n",
    "\n",
    "    return (n*(sum(xy_list)) - sum(x)*sum(y))/(n*(sum(x_squared)) - (sum(x)**2))\n",
    "\n",
    "def y_intercept(x,y):\n",
    "\n",
    "    val_slope = slope(x,y)\n",
    "\n",
    "    return (sum(y) - val_slope(sum(x)))/len(x)"
   ]
  }
 ],
 "metadata": {
  "kernelspec": {
   "display_name": "base",
   "language": "python",
   "name": "python3"
  },
  "language_info": {
   "name": "python",
   "version": "3.9.13 (main, Aug 25 2022, 23:51:50) [MSC v.1916 64 bit (AMD64)]"
  },
  "orig_nbformat": 4,
  "vscode": {
   "interpreter": {
    "hash": "5258fc8d54b246b15d04f0d8bac1488b0dccea794c9e036f9fc4768bce6f9b96"
   }
  }
 },
 "nbformat": 4,
 "nbformat_minor": 2
}
